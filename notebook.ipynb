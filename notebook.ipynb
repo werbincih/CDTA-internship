{
 "cells": [
  {
   "cell_type": "code",
   "execution_count": null,
   "metadata": {},
   "outputs": [
    {
     "ename": "RuntimeError",
     "evalue": "Only a single TORCH_LIBRARY can be used to register the namespace prims; please put all of your definitions in a single TORCH_LIBRARY block.  If you were trying to specify implementations, consider using TORCH_LIBRARY_IMPL (which can be duplicated).  If you really intended to define operators for a single namespace in a distributed way, you can use TORCH_LIBRARY_FRAGMENT to explicitly indicate this.  Previous registration of TORCH_LIBRARY was registered at /dev/null:488; latest registration was registered at /dev/null:488",
     "output_type": "error",
     "traceback": [
      "\u001b[31m---------------------------------------------------------------------------\u001b[39m",
      "\u001b[31mRuntimeError\u001b[39m                              Traceback (most recent call last)",
      "\u001b[36mCell\u001b[39m\u001b[36m \u001b[39m\u001b[32mIn[8]\u001b[39m\u001b[32m, line 9\u001b[39m\n\u001b[32m      6\u001b[39m \u001b[38;5;28;01mfrom\u001b[39;00m\u001b[38;5;250m \u001b[39m\u001b[34;01msklearn\u001b[39;00m\u001b[34;01m.\u001b[39;00m\u001b[34;01mpreprocessing\u001b[39;00m\u001b[38;5;250m \u001b[39m\u001b[38;5;28;01mimport\u001b[39;00m StandardScaler\n\u001b[32m      7\u001b[39m \u001b[38;5;28;01mfrom\u001b[39;00m\u001b[38;5;250m \u001b[39m\u001b[34;01msklearn\u001b[39;00m\u001b[34;01m.\u001b[39;00m\u001b[34;01mmetrics\u001b[39;00m\u001b[38;5;250m \u001b[39m\u001b[38;5;28;01mimport\u001b[39;00m mean_squared_error, mean_absolute_error , r2_score\n\u001b[32m----> \u001b[39m\u001b[32m9\u001b[39m \u001b[38;5;28;01mimport\u001b[39;00m\u001b[38;5;250m \u001b[39m\u001b[34;01mtorch\u001b[39;00m\n\u001b[32m     10\u001b[39m \u001b[38;5;28;01mimport\u001b[39;00m\u001b[38;5;250m \u001b[39m\u001b[34;01mtorch\u001b[39;00m\u001b[34;01m.\u001b[39;00m\u001b[34;01mnn\u001b[39;00m\u001b[38;5;250m \u001b[39m\u001b[38;5;28;01mas\u001b[39;00m\u001b[38;5;250m \u001b[39m\u001b[34;01mnn\u001b[39;00m\n\u001b[32m     11\u001b[39m \u001b[38;5;28;01mimport\u001b[39;00m\u001b[38;5;250m \u001b[39m\u001b[34;01mtorch\u001b[39;00m\u001b[34;01m.\u001b[39;00m\u001b[34;01moptim\u001b[39;00m\u001b[38;5;250m \u001b[39m\u001b[38;5;28;01mas\u001b[39;00m\u001b[38;5;250m \u001b[39m\u001b[34;01moptim\u001b[39;00m\n",
      "\u001b[36mFile \u001b[39m\u001b[32mc:\\Users\\werbinich\\Desktop\\stage\\work\\Lib\\site-packages\\torch\\__init__.py:2611\u001b[39m\n\u001b[32m   2607\u001b[39m \u001b[38;5;28;01mfrom\u001b[39;00m\u001b[38;5;250m \u001b[39m\u001b[34;01mtorch\u001b[39;00m\u001b[34;01m.\u001b[39;00m\u001b[34;01mfunc\u001b[39;00m\u001b[38;5;250m \u001b[39m\u001b[38;5;28;01mimport\u001b[39;00m vmap \u001b[38;5;28;01mas\u001b[39;00m vmap\n\u001b[32m   2610\u001b[39m \u001b[38;5;28;01mif\u001b[39;00m \u001b[38;5;129;01mnot\u001b[39;00m TYPE_CHECKING:\n\u001b[32m-> \u001b[39m\u001b[32m2611\u001b[39m     \u001b[38;5;28;01mfrom\u001b[39;00m\u001b[38;5;250m \u001b[39m\u001b[34;01mtorch\u001b[39;00m\u001b[38;5;250m \u001b[39m\u001b[38;5;28;01mimport\u001b[39;00m _meta_registrations\n\u001b[32m   2613\u001b[39m \u001b[38;5;66;03m# Enable CUDA Sanitizer\u001b[39;00m\n\u001b[32m   2614\u001b[39m \u001b[38;5;28;01mif\u001b[39;00m \u001b[33m\"\u001b[39m\u001b[33mTORCH_CUDA_SANITIZER\u001b[39m\u001b[33m\"\u001b[39m \u001b[38;5;129;01min\u001b[39;00m os.environ:\n",
      "\u001b[36mFile \u001b[39m\u001b[32mc:\\Users\\werbinich\\Desktop\\stage\\work\\Lib\\site-packages\\torch\\_meta_registrations.py:12\u001b[39m\n\u001b[32m     10\u001b[39m \u001b[38;5;28;01mimport\u001b[39;00m\u001b[38;5;250m \u001b[39m\u001b[34;01mtorch\u001b[39;00m\u001b[34;01m.\u001b[39;00m\u001b[34;01m_prims_common\u001b[39;00m\u001b[38;5;250m \u001b[39m\u001b[38;5;28;01mas\u001b[39;00m\u001b[38;5;250m \u001b[39m\u001b[34;01mutils\u001b[39;00m\n\u001b[32m     11\u001b[39m \u001b[38;5;28;01mfrom\u001b[39;00m\u001b[38;5;250m \u001b[39m\u001b[34;01mtorch\u001b[39;00m\u001b[38;5;250m \u001b[39m\u001b[38;5;28;01mimport\u001b[39;00m SymBool, SymFloat, Tensor\n\u001b[32m---> \u001b[39m\u001b[32m12\u001b[39m \u001b[38;5;28;01mfrom\u001b[39;00m\u001b[38;5;250m \u001b[39m\u001b[34;01mtorch\u001b[39;00m\u001b[34;01m.\u001b[39;00m\u001b[34;01m_decomp\u001b[39;00m\u001b[38;5;250m \u001b[39m\u001b[38;5;28;01mimport\u001b[39;00m (\n\u001b[32m     13\u001b[39m     _add_op_to_registry,\n\u001b[32m     14\u001b[39m     _convert_out_params,\n\u001b[32m     15\u001b[39m     global_decomposition_table,\n\u001b[32m     16\u001b[39m     meta_table,\n\u001b[32m     17\u001b[39m )\n\u001b[32m     18\u001b[39m \u001b[38;5;28;01mfrom\u001b[39;00m\u001b[38;5;250m \u001b[39m\u001b[34;01mtorch\u001b[39;00m\u001b[34;01m.\u001b[39;00m\u001b[34;01m_ops\u001b[39;00m\u001b[38;5;250m \u001b[39m\u001b[38;5;28;01mimport\u001b[39;00m OpOverload\n\u001b[32m     19\u001b[39m \u001b[38;5;28;01mfrom\u001b[39;00m\u001b[38;5;250m \u001b[39m\u001b[34;01mtorch\u001b[39;00m\u001b[34;01m.\u001b[39;00m\u001b[34;01m_prims\u001b[39;00m\u001b[38;5;250m \u001b[39m\u001b[38;5;28;01mimport\u001b[39;00m _prim_elementwise_meta, ELEMENTWISE_PRIM_TYPE_PROMOTION_KIND\n",
      "\u001b[36mFile \u001b[39m\u001b[32mc:\\Users\\werbinich\\Desktop\\stage\\work\\Lib\\site-packages\\torch\\_decomp\\__init__.py:276\u001b[39m\n\u001b[32m    272\u001b[39m             decompositions.pop(op, \u001b[38;5;28;01mNone\u001b[39;00m)\n\u001b[32m    275\u001b[39m \u001b[38;5;66;03m# populate the table\u001b[39;00m\n\u001b[32m--> \u001b[39m\u001b[32m276\u001b[39m \u001b[38;5;28;01mimport\u001b[39;00m\u001b[38;5;250m \u001b[39m\u001b[34;01mtorch\u001b[39;00m\u001b[34;01m.\u001b[39;00m\u001b[34;01m_decomp\u001b[39;00m\u001b[34;01m.\u001b[39;00m\u001b[34;01mdecompositions\u001b[39;00m\n\u001b[32m    277\u001b[39m \u001b[38;5;28;01mimport\u001b[39;00m\u001b[38;5;250m \u001b[39m\u001b[34;01mtorch\u001b[39;00m\u001b[34;01m.\u001b[39;00m\u001b[34;01m_refs\u001b[39;00m\n\u001b[32m    280\u001b[39m \u001b[38;5;28;01mdef\u001b[39;00m\u001b[38;5;250m \u001b[39m\u001b[34mcore_aten_decompositions\u001b[39m() -> \u001b[33m\"\u001b[39m\u001b[33mCustomDecompTable\u001b[39m\u001b[33m\"\u001b[39m:\n",
      "\u001b[36mFile \u001b[39m\u001b[32mc:\\Users\\werbinich\\Desktop\\stage\\work\\Lib\\site-packages\\torch\\_decomp\\decompositions.py:16\u001b[39m\n\u001b[32m     14\u001b[39m \u001b[38;5;28;01mimport\u001b[39;00m\u001b[38;5;250m \u001b[39m\u001b[34;01mtorch\u001b[39;00m\n\u001b[32m     15\u001b[39m \u001b[38;5;28;01mimport\u001b[39;00m\u001b[38;5;250m \u001b[39m\u001b[34;01mtorch\u001b[39;00m\u001b[34;01m.\u001b[39;00m\u001b[34;01m_meta_registrations\u001b[39;00m\n\u001b[32m---> \u001b[39m\u001b[32m16\u001b[39m \u001b[38;5;28;01mimport\u001b[39;00m\u001b[38;5;250m \u001b[39m\u001b[34;01mtorch\u001b[39;00m\u001b[34;01m.\u001b[39;00m\u001b[34;01m_prims\u001b[39;00m\u001b[38;5;250m \u001b[39m\u001b[38;5;28;01mas\u001b[39;00m\u001b[38;5;250m \u001b[39m\u001b[34;01mprims\u001b[39;00m\n\u001b[32m     17\u001b[39m \u001b[38;5;28;01mimport\u001b[39;00m\u001b[38;5;250m \u001b[39m\u001b[34;01mtorch\u001b[39;00m\u001b[34;01m.\u001b[39;00m\u001b[34;01m_prims_common\u001b[39;00m\u001b[38;5;250m \u001b[39m\u001b[38;5;28;01mas\u001b[39;00m\u001b[38;5;250m \u001b[39m\u001b[34;01mutils\u001b[39;00m\n\u001b[32m     18\u001b[39m \u001b[38;5;28;01mimport\u001b[39;00m\u001b[38;5;250m \u001b[39m\u001b[34;01mtorch\u001b[39;00m\u001b[34;01m.\u001b[39;00m\u001b[34;01mnn\u001b[39;00m\u001b[34;01m.\u001b[39;00m\u001b[34;01mfunctional\u001b[39;00m\u001b[38;5;250m \u001b[39m\u001b[38;5;28;01mas\u001b[39;00m\u001b[38;5;250m \u001b[39m\u001b[34;01mF\u001b[39;00m\n",
      "\u001b[36mFile \u001b[39m\u001b[32mc:\\Users\\werbinich\\Desktop\\stage\\work\\Lib\\site-packages\\torch\\_prims\\__init__.py:37\u001b[39m\n\u001b[32m     33\u001b[39m \u001b[38;5;28;01mfrom\u001b[39;00m\u001b[38;5;250m \u001b[39m\u001b[34;01mtorch\u001b[39;00m\u001b[34;01m.\u001b[39;00m\u001b[34;01moverrides\u001b[39;00m\u001b[38;5;250m \u001b[39m\u001b[38;5;28;01mimport\u001b[39;00m handle_torch_function, has_torch_function\n\u001b[32m     34\u001b[39m \u001b[38;5;28;01mfrom\u001b[39;00m\u001b[38;5;250m \u001b[39m\u001b[34;01mtorch\u001b[39;00m\u001b[34;01m.\u001b[39;00m\u001b[34;01mutils\u001b[39;00m\u001b[34;01m.\u001b[39;00m\u001b[34;01m_pytree\u001b[39;00m\u001b[38;5;250m \u001b[39m\u001b[38;5;28;01mimport\u001b[39;00m tree_flatten, tree_map, tree_unflatten\n\u001b[32m---> \u001b[39m\u001b[32m37\u001b[39m prim = \u001b[43mtorch\u001b[49m\u001b[43m.\u001b[49m\u001b[43mlibrary\u001b[49m\u001b[43m.\u001b[49m\u001b[43mLibrary\u001b[49m\u001b[43m(\u001b[49m\u001b[33;43m\"\u001b[39;49m\u001b[33;43mprims\u001b[39;49m\u001b[33;43m\"\u001b[39;49m\u001b[43m,\u001b[49m\u001b[43m \u001b[49m\u001b[33;43m\"\u001b[39;49m\u001b[33;43mDEF\u001b[39;49m\u001b[33;43m\"\u001b[39;49m\u001b[43m)\u001b[49m\n\u001b[32m     38\u001b[39m prim_impl = torch.library.Library(\u001b[33m\"\u001b[39m\u001b[33mprims\u001b[39m\u001b[33m\"\u001b[39m, \u001b[33m\"\u001b[39m\u001b[33mIMPL\u001b[39m\u001b[33m\"\u001b[39m, \u001b[33m\"\u001b[39m\u001b[33mCompositeExplicitAutograd\u001b[39m\u001b[33m\"\u001b[39m)\n\u001b[32m     39\u001b[39m prim_backend_select_impl = torch.library.Library(\u001b[33m\"\u001b[39m\u001b[33mprims\u001b[39m\u001b[33m\"\u001b[39m, \u001b[33m\"\u001b[39m\u001b[33mIMPL\u001b[39m\u001b[33m\"\u001b[39m, \u001b[33m\"\u001b[39m\u001b[33mBackendSelect\u001b[39m\u001b[33m\"\u001b[39m)\n",
      "\u001b[36mFile \u001b[39m\u001b[32mc:\\Users\\werbinich\\Desktop\\stage\\work\\Lib\\site-packages\\torch\\library.py:109\u001b[39m, in \u001b[36mLibrary.__init__\u001b[39m\u001b[34m(self, ns, kind, dispatch_key)\u001b[39m\n\u001b[32m    107\u001b[39m frame = traceback.extract_stack(limit=\u001b[32m3\u001b[39m)[\u001b[32m0\u001b[39m]\n\u001b[32m    108\u001b[39m filename, lineno = frame.filename, frame.lineno\n\u001b[32m--> \u001b[39m\u001b[32m109\u001b[39m \u001b[38;5;28mself\u001b[39m.m: Optional[Any] = \u001b[43mtorch\u001b[49m\u001b[43m.\u001b[49m\u001b[43m_C\u001b[49m\u001b[43m.\u001b[49m\u001b[43m_dispatch_library\u001b[49m\u001b[43m(\u001b[49m\n\u001b[32m    110\u001b[39m \u001b[43m    \u001b[49m\u001b[43mkind\u001b[49m\u001b[43m,\u001b[49m\u001b[43m \u001b[49m\u001b[43mns\u001b[49m\u001b[43m,\u001b[49m\u001b[43m \u001b[49m\u001b[43mdispatch_key\u001b[49m\u001b[43m,\u001b[49m\u001b[43m \u001b[49m\u001b[43mfilename\u001b[49m\u001b[43m,\u001b[49m\u001b[43m \u001b[49m\u001b[43mlineno\u001b[49m\n\u001b[32m    111\u001b[39m \u001b[43m\u001b[49m\u001b[43m)\u001b[49m\n\u001b[32m    112\u001b[39m \u001b[38;5;28mself\u001b[39m.ns = ns\n\u001b[32m    113\u001b[39m \u001b[38;5;28mself\u001b[39m._op_defs: \u001b[38;5;28mset\u001b[39m[\u001b[38;5;28mstr\u001b[39m] = \u001b[38;5;28mset\u001b[39m()\n",
      "\u001b[31mRuntimeError\u001b[39m: Only a single TORCH_LIBRARY can be used to register the namespace prims; please put all of your definitions in a single TORCH_LIBRARY block.  If you were trying to specify implementations, consider using TORCH_LIBRARY_IMPL (which can be duplicated).  If you really intended to define operators for a single namespace in a distributed way, you can use TORCH_LIBRARY_FRAGMENT to explicitly indicate this.  Previous registration of TORCH_LIBRARY was registered at /dev/null:488; latest registration was registered at /dev/null:488"
     ]
    },
    {
     "ename": "",
     "evalue": "",
     "output_type": "error",
     "traceback": [
      "\u001b[1;31mThe Kernel crashed while executing code in the current cell or a previous cell. \n",
      "\u001b[1;31mPlease review the code in the cell(s) to identify a possible cause of the failure. \n",
      "\u001b[1;31mClick <a href='https://aka.ms/vscodeJupyterKernelCrash'>here</a> for more info. \n",
      "\u001b[1;31mView Jupyter <a href='command:jupyter.viewOutput'>log</a> for further details."
     ]
    }
   ],
   "source": [
    "import pandas as pd\n",
    "import numpy as np\n",
    "import matplotlib.pyplot as plt\n",
    "\n",
    "from sklearn.model_selection import train_test_split\n",
    "from sklearn.preprocessing import StandardScaler\n",
    "from sklearn.metrics import mean_squared_error, mean_absolute_error , r2_score\n",
    "\n",
    "import torch\n",
    "import torch.nn as nn\n",
    "import torch.optim as optim\n",
    "\n",
    "# Check device\n",
    "device = torch.device(\"cuda\" if torch.cuda.is_available() else \"cpu\")\n",
    "print(f\"Using device: {device}\")\n"
   ]
  },
  {
   "cell_type": "code",
   "execution_count": null,
   "metadata": {},
   "outputs": [],
   "source": []
  },
  {
   "cell_type": "code",
   "execution_count": 5,
   "metadata": {},
   "outputs": [
    {
     "name": "stdout",
     "output_type": "stream",
     "text": [
      "CSV file 'machining_data.csv' created successfully.\n"
     ]
    }
   ],
   "source": [
    "# preparing the data: \n",
    "import csv\n",
    "\n",
    "# Data extracted from the image\n",
    "data = [\n",
    "    [1, 0.2, 10000, 1500, 1.054],\n",
    "    [2, 0.2, 10000, 2000, 0.76],\n",
    "    [3, 0.2, 10000, 2500, 0.74],\n",
    "    [4, 0.2, 15000, 1500, 0.72],\n",
    "    [5, 0.2, 15000, 2000, 0.56],\n",
    "    [6, 0.2, 15000, 2500, 0.74],\n",
    "    [7, 0.2, 20000, 1500, 1.50],\n",
    "    [8, 0.2, 20000, 2000, 1.14],\n",
    "    [9, 0.2, 20000, 2500, 0.54],\n",
    "    [10, 0.4, 10000, 1500, 0.68],\n",
    "    [11, 0.4, 10000, 2000, 0.86],\n",
    "    [12, 0.4, 10000, 2500, 0.72],\n",
    "    [13, 0.4, 15000, 1500, 0.68],\n",
    "    [14, 0.4, 15000, 2000, 0.72],\n",
    "    [15, 0.4, 15000, 2500, 0.78],\n",
    "    [16, 0.4, 20000, 1500, 0.64],\n",
    "    [17, 0.4, 20000, 2000, 0.66],\n",
    "    [18, 0.4, 20000, 2500, 0.52],\n",
    "    [19, 0.6, 10000, 1500, 1.36],\n",
    "    [20, 0.6, 10000, 2000, 1.10],\n",
    "    [21, 0.6, 10000, 2500, 1.14],\n",
    "    [22, 0.6, 15000, 1500, 0.92],\n",
    "    [23, 0.6, 15000, 2000, 0.80],\n",
    "    [24, 0.6, 15000, 2500, 0.84],\n",
    "    [25, 0.6, 20000, 1500, 0.78],\n",
    "    [26, 0.6, 20000, 2000, 0.76],\n",
    "    [27, 0.6, 20000, 2500, 0.68],\n",
    "]\n",
    "\n",
    "# Write to CSV\n",
    "with open(\"machining_data.csv\", mode=\"w\", newline=\"\") as file:\n",
    "    writer = csv.writer(file)\n",
    "    writer.writerow([\"Exp No.\", \"Ap (mm)\", \"Vc (tr/min)\", \"f (mm/tr)\", \"Ra (µm)\"])  # headers\n",
    "    writer.writerows(data)\n",
    "\n",
    "print(\"CSV file 'machining_data.csv' created successfully.\")\n"
   ]
  },
  {
   "cell_type": "code",
   "execution_count": 6,
   "metadata": {},
   "outputs": [
    {
     "data": {
      "text/html": [
       "<div>\n",
       "<style scoped>\n",
       "    .dataframe tbody tr th:only-of-type {\n",
       "        vertical-align: middle;\n",
       "    }\n",
       "\n",
       "    .dataframe tbody tr th {\n",
       "        vertical-align: top;\n",
       "    }\n",
       "\n",
       "    .dataframe thead th {\n",
       "        text-align: right;\n",
       "    }\n",
       "</style>\n",
       "<table border=\"1\" class=\"dataframe\">\n",
       "  <thead>\n",
       "    <tr style=\"text-align: right;\">\n",
       "      <th></th>\n",
       "      <th>Exp No.</th>\n",
       "      <th>Ap (mm)</th>\n",
       "      <th>Vc (tr/min)</th>\n",
       "      <th>f (mm/tr)</th>\n",
       "      <th>Ra (µm)</th>\n",
       "    </tr>\n",
       "  </thead>\n",
       "  <tbody>\n",
       "    <tr>\n",
       "      <th>0</th>\n",
       "      <td>1</td>\n",
       "      <td>0.2</td>\n",
       "      <td>10000</td>\n",
       "      <td>1500</td>\n",
       "      <td>1.054</td>\n",
       "    </tr>\n",
       "    <tr>\n",
       "      <th>1</th>\n",
       "      <td>2</td>\n",
       "      <td>0.2</td>\n",
       "      <td>10000</td>\n",
       "      <td>2000</td>\n",
       "      <td>0.760</td>\n",
       "    </tr>\n",
       "    <tr>\n",
       "      <th>2</th>\n",
       "      <td>3</td>\n",
       "      <td>0.2</td>\n",
       "      <td>10000</td>\n",
       "      <td>2500</td>\n",
       "      <td>0.740</td>\n",
       "    </tr>\n",
       "    <tr>\n",
       "      <th>3</th>\n",
       "      <td>4</td>\n",
       "      <td>0.2</td>\n",
       "      <td>15000</td>\n",
       "      <td>1500</td>\n",
       "      <td>0.720</td>\n",
       "    </tr>\n",
       "    <tr>\n",
       "      <th>4</th>\n",
       "      <td>5</td>\n",
       "      <td>0.2</td>\n",
       "      <td>15000</td>\n",
       "      <td>2000</td>\n",
       "      <td>0.560</td>\n",
       "    </tr>\n",
       "  </tbody>\n",
       "</table>\n",
       "</div>"
      ],
      "text/plain": [
       "   Exp No.  Ap (mm)  Vc (tr/min)  f (mm/tr)  Ra (µm)\n",
       "0        1      0.2        10000       1500    1.054\n",
       "1        2      0.2        10000       2000    0.760\n",
       "2        3      0.2        10000       2500    0.740\n",
       "3        4      0.2        15000       1500    0.720\n",
       "4        5      0.2        15000       2000    0.560"
      ]
     },
     "execution_count": 6,
     "metadata": {},
     "output_type": "execute_result"
    }
   ],
   "source": [
    "\n",
    "data = pd.read_csv(\"machining_data.csv\" ,  encoding='latin1') \n",
    "data.head()\n"
   ]
  },
  {
   "cell_type": "code",
   "execution_count": 4,
   "metadata": {},
   "outputs": [
    {
     "name": "stdout",
     "output_type": "stream",
     "text": [
      "<class 'pandas.core.frame.DataFrame'>\n",
      "RangeIndex: 27 entries, 0 to 26\n",
      "Data columns (total 5 columns):\n",
      " #   Column       Non-Null Count  Dtype  \n",
      "---  ------       --------------  -----  \n",
      " 0   Exp No.      27 non-null     int64  \n",
      " 1   Ap (mm)      27 non-null     float64\n",
      " 2   Vc (tr/min)  27 non-null     int64  \n",
      " 3   f (mm/tr)    27 non-null     int64  \n",
      " 4   Ra (µm)      27 non-null     float64\n",
      "dtypes: float64(2), int64(3)\n",
      "memory usage: 1.2 KB\n"
     ]
    },
    {
     "data": {
      "text/html": [
       "<div>\n",
       "<style scoped>\n",
       "    .dataframe tbody tr th:only-of-type {\n",
       "        vertical-align: middle;\n",
       "    }\n",
       "\n",
       "    .dataframe tbody tr th {\n",
       "        vertical-align: top;\n",
       "    }\n",
       "\n",
       "    .dataframe thead th {\n",
       "        text-align: right;\n",
       "    }\n",
       "</style>\n",
       "<table border=\"1\" class=\"dataframe\">\n",
       "  <thead>\n",
       "    <tr style=\"text-align: right;\">\n",
       "      <th></th>\n",
       "      <th>Exp No.</th>\n",
       "      <th>Ap (mm)</th>\n",
       "      <th>Vc (tr/min)</th>\n",
       "      <th>f (mm/tr)</th>\n",
       "      <th>Ra (µm)</th>\n",
       "    </tr>\n",
       "  </thead>\n",
       "  <tbody>\n",
       "    <tr>\n",
       "      <th>count</th>\n",
       "      <td>27.000000</td>\n",
       "      <td>27.00000</td>\n",
       "      <td>27.000000</td>\n",
       "      <td>27.000000</td>\n",
       "      <td>27.000000</td>\n",
       "    </tr>\n",
       "    <tr>\n",
       "      <th>mean</th>\n",
       "      <td>14.000000</td>\n",
       "      <td>0.40000</td>\n",
       "      <td>15000.000000</td>\n",
       "      <td>2000.000000</td>\n",
       "      <td>0.829407</td>\n",
       "    </tr>\n",
       "    <tr>\n",
       "      <th>std</th>\n",
       "      <td>7.937254</td>\n",
       "      <td>0.16641</td>\n",
       "      <td>4160.251472</td>\n",
       "      <td>416.025147</td>\n",
       "      <td>0.240829</td>\n",
       "    </tr>\n",
       "    <tr>\n",
       "      <th>min</th>\n",
       "      <td>1.000000</td>\n",
       "      <td>0.20000</td>\n",
       "      <td>10000.000000</td>\n",
       "      <td>1500.000000</td>\n",
       "      <td>0.520000</td>\n",
       "    </tr>\n",
       "    <tr>\n",
       "      <th>25%</th>\n",
       "      <td>7.500000</td>\n",
       "      <td>0.20000</td>\n",
       "      <td>10000.000000</td>\n",
       "      <td>1500.000000</td>\n",
       "      <td>0.680000</td>\n",
       "    </tr>\n",
       "    <tr>\n",
       "      <th>50%</th>\n",
       "      <td>14.000000</td>\n",
       "      <td>0.40000</td>\n",
       "      <td>15000.000000</td>\n",
       "      <td>2000.000000</td>\n",
       "      <td>0.760000</td>\n",
       "    </tr>\n",
       "    <tr>\n",
       "      <th>75%</th>\n",
       "      <td>20.500000</td>\n",
       "      <td>0.60000</td>\n",
       "      <td>20000.000000</td>\n",
       "      <td>2500.000000</td>\n",
       "      <td>0.890000</td>\n",
       "    </tr>\n",
       "    <tr>\n",
       "      <th>max</th>\n",
       "      <td>27.000000</td>\n",
       "      <td>0.60000</td>\n",
       "      <td>20000.000000</td>\n",
       "      <td>2500.000000</td>\n",
       "      <td>1.500000</td>\n",
       "    </tr>\n",
       "  </tbody>\n",
       "</table>\n",
       "</div>"
      ],
      "text/plain": [
       "         Exp No.   Ap (mm)   Vc (tr/min)    f (mm/tr)    Ra (µm)\n",
       "count  27.000000  27.00000     27.000000    27.000000  27.000000\n",
       "mean   14.000000   0.40000  15000.000000  2000.000000   0.829407\n",
       "std     7.937254   0.16641   4160.251472   416.025147   0.240829\n",
       "min     1.000000   0.20000  10000.000000  1500.000000   0.520000\n",
       "25%     7.500000   0.20000  10000.000000  1500.000000   0.680000\n",
       "50%    14.000000   0.40000  15000.000000  2000.000000   0.760000\n",
       "75%    20.500000   0.60000  20000.000000  2500.000000   0.890000\n",
       "max    27.000000   0.60000  20000.000000  2500.000000   1.500000"
      ]
     },
     "execution_count": 4,
     "metadata": {},
     "output_type": "execute_result"
    }
   ],
   "source": [
    "data.info()\n",
    "data.isnull().sum()\n",
    "data.describe()\n"
   ]
  },
  {
   "cell_type": "markdown",
   "metadata": {},
   "source": [
    "# Base line ANN model "
   ]
  },
  {
   "cell_type": "code",
   "execution_count": 7,
   "metadata": {},
   "outputs": [
    {
     "ename": "NameError",
     "evalue": "name 'torch' is not defined",
     "output_type": "error",
     "traceback": [
      "\u001b[31m---------------------------------------------------------------------------\u001b[39m",
      "\u001b[31mNameError\u001b[39m                                 Traceback (most recent call last)",
      "\u001b[36mCell\u001b[39m\u001b[36m \u001b[39m\u001b[32mIn[7]\u001b[39m\u001b[32m, line 14\u001b[39m\n\u001b[32m     11\u001b[39m X_test = scaler.transform(X_test)\n\u001b[32m     13\u001b[39m \u001b[38;5;66;03m# Convert to PyTorch tensors\u001b[39;00m\n\u001b[32m---> \u001b[39m\u001b[32m14\u001b[39m X_train = \u001b[43mtorch\u001b[49m.tensor(X_train, dtype=torch.float32).to(device)\n\u001b[32m     15\u001b[39m X_test = torch.tensor(X_test, dtype=torch.float32).to(device)\n\u001b[32m     16\u001b[39m y_train = torch.tensor(y_train, dtype=torch.float32).view(-\u001b[32m1\u001b[39m, \u001b[32m1\u001b[39m).to(device)\n",
      "\u001b[31mNameError\u001b[39m: name 'torch' is not defined"
     ]
    }
   ],
   "source": [
    "# Replace 'target' with your actual target column name\n",
    "X = data.drop(columns=[\"Ra (µm)\"]).values\n",
    "y = data[\"Ra (µm)\"].values\n",
    "\n",
    "# Split\n",
    "X_train, X_test, y_train, y_test = train_test_split(X, y, test_size=0.2, random_state=42)\n",
    "\n",
    "# Scale features\n",
    "scaler = StandardScaler()\n",
    "X_train = scaler.fit_transform(X_train)\n",
    "X_test = scaler.transform(X_test)\n",
    "\n",
    "# Convert to PyTorch tensors\n",
    "X_train = torch.tensor(X_train, dtype=torch.float32).to(device)\n",
    "X_test = torch.tensor(X_test, dtype=torch.float32).to(device)\n",
    "y_train = torch.tensor(y_train, dtype=torch.float32).view(-1, 1).to(device)\n",
    "y_test = torch.tensor(y_test, dtype=torch.float32).view(-1, 1).to(device)\n"
   ]
  },
  {
   "cell_type": "code",
   "execution_count": 6,
   "metadata": {},
   "outputs": [
    {
     "name": "stdout",
     "output_type": "stream",
     "text": [
      "BaselineANN(\n",
      "  (net): Sequential(\n",
      "    (0): Linear(in_features=4, out_features=50, bias=True)\n",
      "    (1): ReLU()\n",
      "    (2): Linear(in_features=50, out_features=32, bias=True)\n",
      "    (3): ReLU()\n",
      "    (4): Linear(in_features=32, out_features=1, bias=True)\n",
      "  )\n",
      ")\n"
     ]
    }
   ],
   "source": [
    "class BaselineANN(nn.Module):\n",
    "    def __init__(self, input_dim):\n",
    "        super(BaselineANN, self).__init__()\n",
    "        self.net = nn.Sequential(\n",
    "            nn.Linear(input_dim, 50),\n",
    "            nn.ReLU(),\n",
    "            nn.Linear(50, 32),\n",
    "            nn.ReLU(),\n",
    "            nn.Linear(32, 1)\n",
    "        )\n",
    "        \n",
    "    def forward(self, x):\n",
    "        return self.net(x)\n",
    "\n",
    "input_dim = X_train.shape[1]\n",
    "model = BaselineANN(input_dim).to(device)\n",
    "print(model)\n"
   ]
  },
  {
   "cell_type": "code",
   "execution_count": 7,
   "metadata": {},
   "outputs": [],
   "source": [
    "criterion = nn.MSELoss()\n",
    "optimizer = optim.Adam(model.parameters(), lr=0.001)\n"
   ]
  },
  {
   "cell_type": "code",
   "execution_count": 8,
   "metadata": {},
   "outputs": [
    {
     "name": "stdout",
     "output_type": "stream",
     "text": [
      "Epoch [1/50], Loss: 0.9028\n",
      "Epoch [10/50], Loss: 0.5783\n",
      "Epoch [20/50], Loss: 0.3177\n",
      "Epoch [30/50], Loss: 0.1324\n",
      "Epoch [40/50], Loss: 0.0589\n",
      "Epoch [50/50], Loss: 0.0497\n"
     ]
    }
   ],
   "source": [
    "epochs = 50\n",
    "train_losses = []\n",
    "\n",
    "for epoch in range(epochs):\n",
    "    model.train()\n",
    "    \n",
    "    optimizer.zero_grad()\n",
    "    outputs = model(X_train)\n",
    "    loss = criterion(outputs, y_train)\n",
    "    loss.backward()\n",
    "    optimizer.step()\n",
    "    \n",
    "    train_losses.append(loss.item())\n",
    "    \n",
    "    if (epoch + 1) % 10 == 0 or epoch == 0:\n",
    "        print(f\"Epoch [{epoch+1}/{epochs}], Loss: {loss.item():.4f}\")\n"
   ]
  },
  {
   "cell_type": "code",
   "execution_count": null,
   "metadata": {},
   "outputs": [
    {
     "name": "stdout",
     "output_type": "stream",
     "text": [
      "📌 MSE: 0.0453\n",
      "📌 MAE: 0.1916\n",
      "📌 RMSE: 0.2128\n"
     ]
    }
   ],
   "source": [
    "model.eval()\n",
    "with torch.no_grad():\n",
    "    y_pred = model(X_test).cpu().numpy()\n",
    "    y_true = y_test.cpu().numpy()\n",
    "\n",
    "mse = mean_squared_error(y_true, y_pred)\n",
    "mae = mean_absolute_error(y_true, y_pred)\n",
    "rmse = np.sqrt(mse)\n",
    "\n",
    "print(f\"📌 MSE: {mse:.4f}\")\n",
    "print(f\"📌 MAE: {mae:.4f}\")\n",
    "print(f\"📌 RMSE: {rmse:.4f}\")\n",
    "print(r2_score(y_true, y_pred))\n"
   ]
  },
  {
   "cell_type": "markdown",
   "metadata": {},
   "source": [
    "## ✨ ANN with Xavier (Glorot) Initialization\n",
    "We now define the same ANN structure, but manually initialize the weights using Xavier initialization.\n"
   ]
  },
  {
   "cell_type": "code",
   "execution_count": 10,
   "metadata": {},
   "outputs": [],
   "source": [
    "class XavierANN(nn.Module):\n",
    "    def __init__(self, input_dim):\n",
    "        super(XavierANN, self).__init__()\n",
    "        self.fc1 = nn.Linear(input_dim, 64)\n",
    "        self.fc2 = nn.Linear(64, 32)\n",
    "        self.fc3 = nn.Linear(32, 1)\n",
    "        \n",
    "        self.relu = nn.ReLU()\n",
    "        \n",
    "        # Apply Xavier initialization\n",
    "        nn.init.xavier_uniform_(self.fc1.weight)\n",
    "        nn.init.xavier_uniform_(self.fc2.weight)\n",
    "        nn.init.xavier_uniform_(self.fc3.weight)\n",
    "        \n",
    "        # Optional: Zero bias\n",
    "        nn.init.zeros_(self.fc1.bias)\n",
    "        nn.init.zeros_(self.fc2.bias)\n",
    "        nn.init.zeros_(self.fc3.bias)\n",
    "\n",
    "    def forward(self, x):\n",
    "        x = self.relu(self.fc1(x))\n",
    "        x = self.relu(self.fc2(x))\n",
    "        return self.fc3(x)\n",
    "\n",
    "# Instantiate\n",
    "xavier_model = XavierANN(input_dim).to(device)\n"
   ]
  },
  {
   "cell_type": "code",
   "execution_count": 11,
   "metadata": {},
   "outputs": [
    {
     "name": "stdout",
     "output_type": "stream",
     "text": [
      "Epoch [1/50], Loss: 0.8733\n",
      "Epoch [10/50], Loss: 0.3845\n",
      "Epoch [20/50], Loss: 0.1340\n",
      "Epoch [30/50], Loss: 0.0746\n",
      "Epoch [40/50], Loss: 0.0597\n",
      "Epoch [50/50], Loss: 0.0392\n"
     ]
    }
   ],
   "source": [
    "criterion = nn.MSELoss()\n",
    "optimizer = optim.Adam(xavier_model.parameters(), lr=0.001)\n",
    "\n",
    "epochs = 50\n",
    "xavier_losses = []\n",
    "\n",
    "for epoch in range(epochs):\n",
    "    xavier_model.train()\n",
    "    optimizer.zero_grad()\n",
    "    outputs = xavier_model(X_train)\n",
    "    loss = criterion(outputs, y_train)\n",
    "    loss.backward()\n",
    "    optimizer.step()\n",
    "    \n",
    "    xavier_losses.append(loss.item())\n",
    "    \n",
    "    if (epoch + 1) % 10 == 0 or epoch == 0:\n",
    "        print(f\"Epoch [{epoch+1}/{epochs}], Loss: {loss.item():.4f}\")\n"
   ]
  },
  {
   "cell_type": "code",
   "execution_count": 12,
   "metadata": {},
   "outputs": [
    {
     "name": "stdout",
     "output_type": "stream",
     "text": [
      "📌 Xavier - MSE: 0.0967\n",
      "📌 Xavier - MAE: 0.2710\n",
      "📌 Xavier - RMSE: 0.3109\n"
     ]
    }
   ],
   "source": [
    "xavier_model.eval()\n",
    "with torch.no_grad():\n",
    "    y_pred_xavier = xavier_model(X_test).cpu().numpy()\n",
    "    y_true = y_test.cpu().numpy()\n",
    "\n",
    "mse_xavier = mean_squared_error(y_true, y_pred_xavier)\n",
    "mae_xavier = mean_absolute_error(y_true, y_pred_xavier)\n",
    "rmse_xavier = np.sqrt(mse_xavier)\n",
    "\n",
    "print(f\"📌 Xavier - MSE: {mse_xavier:.4f}\")\n",
    "print(f\"📌 Xavier - MAE: {mae_xavier:.4f}\")\n",
    "print(f\"📌 Xavier - RMSE: {rmse_xavier:.4f}\")\n"
   ]
  },
  {
   "cell_type": "markdown",
   "metadata": {},
   "source": [
    "## ⚡ ANN with He (Kaiming) Initialization\n",
    "We now define the same ANN structure using He initialization, which is optimal for ReLU-activated layers.\n"
   ]
  },
  {
   "cell_type": "code",
   "execution_count": 13,
   "metadata": {},
   "outputs": [],
   "source": [
    "class HeANN(nn.Module):\n",
    "    def __init__(self, input_dim):\n",
    "        super(HeANN, self).__init__()\n",
    "        self.fc1 = nn.Linear(input_dim, 50)\n",
    "        self.fc2 = nn.Linear(50, 32)\n",
    "        self.fc3 = nn.Linear(32, 1)\n",
    "        \n",
    "        self.relu = nn.ReLU()\n",
    "        \n",
    "        # Apply He (Kaiming) initialization\n",
    "        nn.init.kaiming_uniform_(self.fc1.weight, nonlinearity='relu')\n",
    "        nn.init.kaiming_uniform_(self.fc2.weight, nonlinearity='relu')\n",
    "        nn.init.kaiming_uniform_(self.fc3.weight, nonlinearity='linear')  # output layer\n",
    "        \n",
    "        nn.init.zeros_(self.fc1.bias)\n",
    "        nn.init.zeros_(self.fc2.bias)\n",
    "        nn.init.zeros_(self.fc3.bias)\n",
    "\n",
    "    def forward(self, x):\n",
    "        x = self.relu(self.fc1(x))\n",
    "        x = self.relu(self.fc2(x))\n",
    "        return self.fc3(x)\n",
    "\n",
    "# Instantiate\n",
    "he_model = HeANN(input_dim).to(device)\n"
   ]
  },
  {
   "cell_type": "code",
   "execution_count": 14,
   "metadata": {},
   "outputs": [
    {
     "name": "stdout",
     "output_type": "stream",
     "text": [
      "Epoch [1/50], Loss: 0.2296\n",
      "Epoch [10/50], Loss: 0.0440\n",
      "Epoch [20/50], Loss: 0.0111\n",
      "Epoch [30/50], Loss: 0.0064\n"
     ]
    },
    {
     "name": "stdout",
     "output_type": "stream",
     "text": [
      "Epoch [40/50], Loss: 0.0023\n",
      "Epoch [50/50], Loss: 0.0009\n"
     ]
    }
   ],
   "source": [
    "criterion = nn.MSELoss()\n",
    "optimizer = optim.Adam(he_model.parameters(), lr=0.001)\n",
    "\n",
    "he_losses = []\n",
    "\n",
    "for epoch in range(epochs):\n",
    "    he_model.train()\n",
    "    optimizer.zero_grad()\n",
    "    outputs = he_model(X_train)\n",
    "    loss = criterion(outputs, y_train)\n",
    "    loss.backward()\n",
    "    optimizer.step()\n",
    "    \n",
    "    he_losses.append(loss.item())\n",
    "    \n",
    "    if (epoch + 1) % 10 == 0 or epoch == 0:\n",
    "        print(f\"Epoch [{epoch+1}/{epochs}], Loss: {loss.item():.4f}\")\n"
   ]
  },
  {
   "cell_type": "code",
   "execution_count": 15,
   "metadata": {},
   "outputs": [
    {
     "name": "stdout",
     "output_type": "stream",
     "text": [
      "📌 He - MSE: 0.1205\n",
      "📌 He - MAE: 0.2827\n",
      "📌 He - RMSE: 0.3471\n"
     ]
    }
   ],
   "source": [
    "he_model.eval()\n",
    "with torch.no_grad():\n",
    "    y_pred_he = he_model(X_test).cpu().numpy()\n",
    "    y_true = y_test.cpu().numpy()\n",
    "\n",
    "mse_he = mean_squared_error(y_true, y_pred_he)\n",
    "mae_he = mean_absolute_error(y_true, y_pred_he)\n",
    "rmse_he = np.sqrt(mse_he)\n",
    "\n",
    "print(f\"📌 He - MSE: {mse_he:.4f}\")\n",
    "print(f\"📌 He - MAE: {mae_he:.4f}\")\n",
    "print(f\"📌 He - RMSE: {rmse_he:.4f}\")\n"
   ]
  },
  {
   "cell_type": "markdown",
   "metadata": {},
   "source": [
    "# 🧠 CNN Model Variants for Regression\n",
    "In this section, we’ll train CNN-based models on the `machining_data.csv` dataset.\n",
    "\n",
    "### Experiments:\n",
    "1. Baseline CNN\n",
    "2. CNN with Xavier (Glorot) Initialization\n",
    "3. CNN with He (Kaiming) Initialization\n",
    "\n",
    "**Note**: We reshape the input as a 1D structure suitable for Conv1D.\n"
   ]
  },
  {
   "cell_type": "code",
   "execution_count": 16,
   "metadata": {},
   "outputs": [],
   "source": [
    "# Assuming original shape is (batch_size, num_features)\n",
    "# CNN expects (batch_size, channels, sequence_length)\n",
    "\n",
    "X_train_cnn = X_train.unsqueeze(1)  # (batch, 1, features)\n",
    "X_test_cnn = X_test.unsqueeze(1)\n"
   ]
  },
  {
   "cell_type": "markdown",
   "metadata": {},
   "source": [
    "# Baseline CNN"
   ]
  },
  {
   "cell_type": "code",
   "execution_count": 17,
   "metadata": {},
   "outputs": [],
   "source": [
    "class BaselineCNN(nn.Module):\n",
    "    def __init__(self):\n",
    "        super(BaselineCNN, self).__init__()\n",
    "        self.conv1 = nn.Conv1d(1, 16, kernel_size=3, padding=1)\n",
    "        self.relu1 = nn.ReLU()\n",
    "        self.conv2 = nn.Conv1d(16, 8, kernel_size=3, padding=1)\n",
    "        self.relu2 = nn.ReLU()\n",
    "        self.flatten = nn.Flatten()\n",
    "        self.fc = nn.Linear(8 * X_train.shape[1], 1)\n",
    "\n",
    "    def forward(self, x):\n",
    "        x = self.relu1(self.conv1(x))\n",
    "        x = self.relu2(self.conv2(x))\n",
    "        x = self.flatten(x)\n",
    "        return self.fc(x)\n",
    "\n",
    "baseline_cnn = BaselineCNN().to(device)\n"
   ]
  },
  {
   "cell_type": "code",
   "execution_count": 18,
   "metadata": {},
   "outputs": [
    {
     "name": "stdout",
     "output_type": "stream",
     "text": [
      "Epoch 1/50, Loss: 0.4931\n",
      "Epoch 10/50, Loss: 0.3439\n",
      "Epoch 20/50, Loss: 0.2072\n",
      "Epoch 30/50, Loss: 0.0980\n",
      "Epoch 40/50, Loss: 0.0352\n",
      "Epoch 50/50, Loss: 0.0296\n"
     ]
    }
   ],
   "source": [
    "criterion = nn.MSELoss()\n",
    "optimizer = optim.Adam(baseline_cnn.parameters(), lr=0.001)\n",
    "\n",
    "baseline_cnn_losses = []\n",
    "\n",
    "for epoch in range(epochs):\n",
    "    baseline_cnn.train()\n",
    "    optimizer.zero_grad()\n",
    "    outputs = baseline_cnn(X_train_cnn)\n",
    "    loss = criterion(outputs, y_train)\n",
    "    loss.backward()\n",
    "    optimizer.step()\n",
    "    baseline_cnn_losses.append(loss.item())\n",
    "\n",
    "    if (epoch+1) % 10 == 0 or epoch == 0:\n",
    "        print(f\"Epoch {epoch+1}/{epochs}, Loss: {loss.item():.4f}\")\n"
   ]
  },
  {
   "cell_type": "code",
   "execution_count": 19,
   "metadata": {},
   "outputs": [
    {
     "name": "stdout",
     "output_type": "stream",
     "text": [
      "Baseline CNN - MSE: 0.0464, MAE: 0.1775, RMSE: 0.2154\n"
     ]
    }
   ],
   "source": [
    "baseline_cnn.eval()\n",
    "with torch.no_grad():\n",
    "    preds = baseline_cnn(X_test_cnn).cpu().numpy()\n",
    "    targets = y_test.cpu().numpy()\n",
    "\n",
    "mse_base = mean_squared_error(targets, preds)\n",
    "mae_base = mean_absolute_error(targets, preds)\n",
    "rmse_base = np.sqrt(mse_base)\n",
    "\n",
    "print(f\"Baseline CNN - MSE: {mse_base:.4f}, MAE: {mae_base:.4f}, RMSE: {rmse_base:.4f}\")\n"
   ]
  },
  {
   "cell_type": "code",
   "execution_count": 20,
   "metadata": {},
   "outputs": [],
   "source": [
    "class XavierCNN(nn.Module):\n",
    "    def __init__(self):\n",
    "        super(XavierCNN, self).__init__()\n",
    "        self.conv1 = nn.Conv1d(1, 16, kernel_size=3, padding=1)\n",
    "        self.conv2 = nn.Conv1d(16, 8, kernel_size=3, padding=1)\n",
    "        self.flatten = nn.Flatten()\n",
    "        self.fc = nn.Linear(8 * X_train.shape[1], 1)\n",
    "        self.relu = nn.ReLU()\n",
    "\n",
    "        # Xavier init\n",
    "        nn.init.xavier_uniform_(self.conv1.weight)\n",
    "        nn.init.xavier_uniform_(self.conv2.weight)\n",
    "        nn.init.xavier_uniform_(self.fc.weight)\n",
    "        nn.init.zeros_(self.conv1.bias)\n",
    "        nn.init.zeros_(self.conv2.bias)\n",
    "        nn.init.zeros_(self.fc.bias)\n",
    "\n",
    "    def forward(self, x):\n",
    "        x = self.relu(self.conv1(x))\n",
    "        x = self.relu(self.conv2(x))\n",
    "        x = self.flatten(x)\n",
    "        return self.fc(x)\n",
    "\n",
    "xavier_cnn = XavierCNN().to(device)\n"
   ]
  },
  {
   "cell_type": "code",
   "execution_count": 21,
   "metadata": {},
   "outputs": [
    {
     "name": "stdout",
     "output_type": "stream",
     "text": [
      "Epoch 1/50, Loss: 0.8685\n",
      "Epoch 10/50, Loss: 0.6318\n"
     ]
    },
    {
     "name": "stdout",
     "output_type": "stream",
     "text": [
      "Epoch 20/50, Loss: 0.4443\n",
      "Epoch 30/50, Loss: 0.2870\n",
      "Epoch 40/50, Loss: 0.1641\n",
      "Epoch 50/50, Loss: 0.0866\n"
     ]
    }
   ],
   "source": [
    "optimizer = optim.Adam(xavier_cnn.parameters(), lr=0.001)\n",
    "xavier_cnn_losses = []\n",
    "\n",
    "for epoch in range(epochs):\n",
    "    xavier_cnn.train()\n",
    "    optimizer.zero_grad()\n",
    "    outputs = xavier_cnn(X_train_cnn)\n",
    "    loss = criterion(outputs, y_train)\n",
    "    loss.backward()\n",
    "    optimizer.step()\n",
    "    xavier_cnn_losses.append(loss.item())\n",
    "\n",
    "    if (epoch+1) % 10 == 0 or epoch == 0:\n",
    "        print(f\"Epoch {epoch+1}/{epochs}, Loss: {loss.item():.4f}\")\n"
   ]
  },
  {
   "cell_type": "code",
   "execution_count": 22,
   "metadata": {},
   "outputs": [
    {
     "name": "stdout",
     "output_type": "stream",
     "text": [
      "Xavier CNN - MSE: 0.1332, MAE: 0.3103, RMSE: 0.3649\n"
     ]
    }
   ],
   "source": [
    "xavier_cnn.eval()\n",
    "with torch.no_grad():\n",
    "    preds = xavier_cnn(X_test_cnn).cpu().numpy()\n",
    "\n",
    "mse_xav = mean_squared_error(targets, preds)\n",
    "mae_xav = mean_absolute_error(targets, preds)\n",
    "rmse_xav = np.sqrt(mse_xav)\n",
    "\n",
    "print(f\"Xavier CNN - MSE: {mse_xav:.4f}, MAE: {mae_xav:.4f}, RMSE: {rmse_xav:.4f}\")\n"
   ]
  },
  {
   "cell_type": "code",
   "execution_count": 23,
   "metadata": {},
   "outputs": [],
   "source": [
    "class HeCNN(nn.Module):\n",
    "    def __init__(self):\n",
    "        super(HeCNN, self).__init__()\n",
    "        self.conv1 = nn.Conv1d(1, 16, kernel_size=3, padding=1)\n",
    "        self.conv2 = nn.Conv1d(16, 8, kernel_size=3, padding=1)\n",
    "        self.flatten = nn.Flatten()\n",
    "        self.fc = nn.Linear(8 * X_train.shape[1], 1)\n",
    "        self.relu = nn.ReLU()\n",
    "\n",
    "        # He (Kaiming) init\n",
    "        nn.init.kaiming_uniform_(self.conv1.weight, nonlinearity='relu')\n",
    "        nn.init.kaiming_uniform_(self.conv2.weight, nonlinearity='relu')\n",
    "        nn.init.kaiming_uniform_(self.fc.weight, nonlinearity='linear')\n",
    "        nn.init.zeros_(self.conv1.bias)\n",
    "        nn.init.zeros_(self.conv2.bias)\n",
    "        nn.init.zeros_(self.fc.bias)\n",
    "\n",
    "    def forward(self, x):\n",
    "        x = self.relu(self.conv1(x))\n",
    "        x = self.relu(self.conv2(x))\n",
    "        x = self.flatten(x)\n",
    "        return self.fc(x)\n",
    "\n",
    "he_cnn = HeCNN().to(device)\n"
   ]
  },
  {
   "cell_type": "code",
   "execution_count": 24,
   "metadata": {},
   "outputs": [
    {
     "name": "stdout",
     "output_type": "stream",
     "text": [
      "Epoch 1/50, Loss: 0.8338\n",
      "Epoch 10/50, Loss: 0.3688\n",
      "Epoch 20/50, Loss: 0.1400\n",
      "Epoch 30/50, Loss: 0.0605\n",
      "Epoch 40/50, Loss: 0.0403\n",
      "Epoch 50/50, Loss: 0.0333\n"
     ]
    }
   ],
   "source": [
    "optimizer = optim.Adam(he_cnn.parameters(), lr=0.001)\n",
    "he_cnn_losses = []\n",
    "\n",
    "for epoch in range(epochs):\n",
    "    he_cnn.train()\n",
    "    optimizer.zero_grad()\n",
    "    outputs = he_cnn(X_train_cnn)\n",
    "    loss = criterion(outputs, y_train)\n",
    "    loss.backward()\n",
    "    optimizer.step()\n",
    "    he_cnn_losses.append(loss.item())\n",
    "\n",
    "    if (epoch+1) % 10 == 0 or epoch == 0:\n",
    "        print(f\"Epoch {epoch+1}/{epochs}, Loss: {loss.item():.4f}\")\n"
   ]
  },
  {
   "cell_type": "code",
   "execution_count": 25,
   "metadata": {},
   "outputs": [
    {
     "name": "stdout",
     "output_type": "stream",
     "text": [
      "He CNN - MSE: 0.0918, MAE: 0.2186, RMSE: 0.3029\n"
     ]
    }
   ],
   "source": [
    "he_cnn.eval()\n",
    "with torch.no_grad():\n",
    "    preds = he_cnn(X_test_cnn).cpu().numpy()\n",
    "\n",
    "mse_he = mean_squared_error(targets, preds)\n",
    "mae_he = mean_absolute_error(targets, preds)\n",
    "rmse_he = np.sqrt(mse_he)\n",
    "\n",
    "print(f\"He CNN - MSE: {mse_he:.4f}, MAE: {mae_he:.4f}, RMSE: {rmse_he:.4f}\")\n"
   ]
  },
  {
   "cell_type": "code",
   "execution_count": 26,
   "metadata": {},
   "outputs": [
    {
     "data": {
      "text/html": [
       "<div>\n",
       "<style scoped>\n",
       "    .dataframe tbody tr th:only-of-type {\n",
       "        vertical-align: middle;\n",
       "    }\n",
       "\n",
       "    .dataframe tbody tr th {\n",
       "        vertical-align: top;\n",
       "    }\n",
       "\n",
       "    .dataframe thead th {\n",
       "        text-align: right;\n",
       "    }\n",
       "</style>\n",
       "<table border=\"1\" class=\"dataframe\">\n",
       "  <thead>\n",
       "    <tr style=\"text-align: right;\">\n",
       "      <th></th>\n",
       "      <th>Angle d'inclinaison( ɸ)</th>\n",
       "      <th>Vitesse S (tr/min)</th>\n",
       "      <th>l'avance Fy (mm/min)</th>\n",
       "      <th>L'avance Fx (mm)</th>\n",
       "      <th>Profondeur de passe t (mm)</th>\n",
       "      <th>Moyenne Ra (Expiremental)</th>\n",
       "      <th>Rugosité prédite ANN (BAR)(µm)</th>\n",
       "      <th>Rugosité prédite ANN&amp;GA (µm)</th>\n",
       "      <th>Poids prédite GA</th>\n",
       "      <th>Unnamed: 9</th>\n",
       "      <th>Unnamed: 10</th>\n",
       "      <th>Unnamed: 11</th>\n",
       "      <th>Unnamed: 12</th>\n",
       "    </tr>\n",
       "  </thead>\n",
       "  <tbody>\n",
       "    <tr>\n",
       "      <th>0</th>\n",
       "      <td>0</td>\n",
       "      <td>380</td>\n",
       "      <td>22</td>\n",
       "      <td>0.4</td>\n",
       "      <td>0.2</td>\n",
       "      <td>1.36</td>\n",
       "      <td>1.362014</td>\n",
       "      <td>1.573254</td>\n",
       "      <td>2.999688</td>\n",
       "      <td>0.002014</td>\n",
       "      <td>0.000004</td>\n",
       "      <td>NaN</td>\n",
       "      <td>NaN</td>\n",
       "    </tr>\n",
       "    <tr>\n",
       "      <th>1</th>\n",
       "      <td>0</td>\n",
       "      <td>380</td>\n",
       "      <td>34</td>\n",
       "      <td>0.6</td>\n",
       "      <td>0.2</td>\n",
       "      <td>2.11</td>\n",
       "      <td>2.442357</td>\n",
       "      <td>2.995118</td>\n",
       "      <td>3.596372</td>\n",
       "      <td>0.332357</td>\n",
       "      <td>0.110461</td>\n",
       "      <td>NaN</td>\n",
       "      <td>NaN</td>\n",
       "    </tr>\n",
       "    <tr>\n",
       "      <th>2</th>\n",
       "      <td>0</td>\n",
       "      <td>380</td>\n",
       "      <td>22</td>\n",
       "      <td>0.4</td>\n",
       "      <td>0.4</td>\n",
       "      <td>1.95</td>\n",
       "      <td>2.949477</td>\n",
       "      <td>1.299246</td>\n",
       "      <td>2.436648</td>\n",
       "      <td>0.999477</td>\n",
       "      <td>0.998953</td>\n",
       "      <td>NaN</td>\n",
       "      <td>NaN</td>\n",
       "    </tr>\n",
       "    <tr>\n",
       "      <th>3</th>\n",
       "      <td>0</td>\n",
       "      <td>380</td>\n",
       "      <td>34</td>\n",
       "      <td>0.6</td>\n",
       "      <td>0.4</td>\n",
       "      <td>3.55</td>\n",
       "      <td>3.546757</td>\n",
       "      <td>2.562542</td>\n",
       "      <td>-0.343223</td>\n",
       "      <td>-0.003243</td>\n",
       "      <td>0.000011</td>\n",
       "      <td>NaN</td>\n",
       "      <td>1.102973</td>\n",
       "    </tr>\n",
       "    <tr>\n",
       "      <th>4</th>\n",
       "      <td>0</td>\n",
       "      <td>380</td>\n",
       "      <td>22</td>\n",
       "      <td>0.4</td>\n",
       "      <td>0.6</td>\n",
       "      <td>0.56</td>\n",
       "      <td>0.547630</td>\n",
       "      <td>1.006231</td>\n",
       "      <td>-0.762090</td>\n",
       "      <td>-0.012370</td>\n",
       "      <td>0.000153</td>\n",
       "      <td>NaN</td>\n",
       "      <td>NaN</td>\n",
       "    </tr>\n",
       "  </tbody>\n",
       "</table>\n",
       "</div>"
      ],
      "text/plain": [
       "   Angle d'inclinaison( ɸ)  Vitesse S (tr/min)  l'avance Fy (mm/min)  \\\n",
       "0                        0                 380                    22   \n",
       "1                        0                 380                    34   \n",
       "2                        0                 380                    22   \n",
       "3                        0                 380                    34   \n",
       "4                        0                 380                    22   \n",
       "\n",
       "   L'avance Fx (mm)  Profondeur de passe t (mm)  Moyenne Ra (Expiremental)  \\\n",
       "0               0.4                         0.2                       1.36   \n",
       "1               0.6                         0.2                       2.11   \n",
       "2               0.4                         0.4                       1.95   \n",
       "3               0.6                         0.4                       3.55   \n",
       "4               0.4                         0.6                       0.56   \n",
       "\n",
       "   Rugosité prédite ANN (BAR)(µm)  Rugosité prédite ANN&GA (µm)  \\\n",
       "0                        1.362014                      1.573254   \n",
       "1                        2.442357                      2.995118   \n",
       "2                        2.949477                      1.299246   \n",
       "3                        3.546757                      2.562542   \n",
       "4                        0.547630                      1.006231   \n",
       "\n",
       "   Poids prédite GA  Unnamed: 9  Unnamed: 10  Unnamed: 11  Unnamed: 12  \n",
       "0          2.999688    0.002014     0.000004          NaN          NaN  \n",
       "1          3.596372    0.332357     0.110461          NaN          NaN  \n",
       "2          2.436648    0.999477     0.998953          NaN          NaN  \n",
       "3         -0.343223   -0.003243     0.000011          NaN     1.102973  \n",
       "4         -0.762090   -0.012370     0.000153          NaN          NaN  "
      ]
     },
     "execution_count": 26,
     "metadata": {},
     "output_type": "execute_result"
    }
   ],
   "source": [
    "full_data = pd.read_csv(\"data.csv\")\n",
    "full_data.head()"
   ]
  },
  {
   "cell_type": "code",
   "execution_count": 27,
   "metadata": {},
   "outputs": [
    {
     "data": {
      "text/html": [
       "<div>\n",
       "<style scoped>\n",
       "    .dataframe tbody tr th:only-of-type {\n",
       "        vertical-align: middle;\n",
       "    }\n",
       "\n",
       "    .dataframe tbody tr th {\n",
       "        vertical-align: top;\n",
       "    }\n",
       "\n",
       "    .dataframe thead th {\n",
       "        text-align: right;\n",
       "    }\n",
       "</style>\n",
       "<table border=\"1\" class=\"dataframe\">\n",
       "  <thead>\n",
       "    <tr style=\"text-align: right;\">\n",
       "      <th></th>\n",
       "      <th>Angle d'inclinaison( ɸ)</th>\n",
       "      <th>Vitesse S (tr/min)</th>\n",
       "      <th>Profondeur de passe t (mm)</th>\n",
       "      <th>Moyenne Ra (Expiremental)</th>\n",
       "    </tr>\n",
       "  </thead>\n",
       "  <tbody>\n",
       "    <tr>\n",
       "      <th>0</th>\n",
       "      <td>0</td>\n",
       "      <td>380</td>\n",
       "      <td>0.2</td>\n",
       "      <td>1.36</td>\n",
       "    </tr>\n",
       "    <tr>\n",
       "      <th>1</th>\n",
       "      <td>0</td>\n",
       "      <td>380</td>\n",
       "      <td>0.2</td>\n",
       "      <td>2.11</td>\n",
       "    </tr>\n",
       "    <tr>\n",
       "      <th>2</th>\n",
       "      <td>0</td>\n",
       "      <td>380</td>\n",
       "      <td>0.4</td>\n",
       "      <td>1.95</td>\n",
       "    </tr>\n",
       "    <tr>\n",
       "      <th>3</th>\n",
       "      <td>0</td>\n",
       "      <td>380</td>\n",
       "      <td>0.4</td>\n",
       "      <td>3.55</td>\n",
       "    </tr>\n",
       "    <tr>\n",
       "      <th>4</th>\n",
       "      <td>0</td>\n",
       "      <td>380</td>\n",
       "      <td>0.6</td>\n",
       "      <td>0.56</td>\n",
       "    </tr>\n",
       "  </tbody>\n",
       "</table>\n",
       "</div>"
      ],
      "text/plain": [
       "   Angle d'inclinaison( ɸ)  Vitesse S (tr/min)  Profondeur de passe t (mm)  \\\n",
       "0                        0                 380                         0.2   \n",
       "1                        0                 380                         0.2   \n",
       "2                        0                 380                         0.4   \n",
       "3                        0                 380                         0.4   \n",
       "4                        0                 380                         0.6   \n",
       "\n",
       "   Moyenne Ra (Expiremental)  \n",
       "0                       1.36  \n",
       "1                       2.11  \n",
       "2                       1.95  \n",
       "3                       3.55  \n",
       "4                       0.56  "
      ]
     },
     "execution_count": 27,
     "metadata": {},
     "output_type": "execute_result"
    }
   ],
   "source": [
    "df = full_data[[\"Angle d'inclinaison( ɸ)\", \"Vitesse S (tr/min)\", \"Profondeur de passe t (mm)\", \"Moyenne Ra (Expiremental)\"]]\n",
    "df.head()\n",
    "\n"
   ]
  },
  {
   "cell_type": "code",
   "execution_count": null,
   "metadata": {},
   "outputs": [
    {
     "data": {
      "text/html": [
       "<div>\n",
       "<style scoped>\n",
       "    .dataframe tbody tr th:only-of-type {\n",
       "        vertical-align: middle;\n",
       "    }\n",
       "\n",
       "    .dataframe tbody tr th {\n",
       "        vertical-align: top;\n",
       "    }\n",
       "\n",
       "    .dataframe thead th {\n",
       "        text-align: right;\n",
       "    }\n",
       "</style>\n",
       "<table border=\"1\" class=\"dataframe\">\n",
       "  <thead>\n",
       "    <tr style=\"text-align: right;\">\n",
       "      <th></th>\n",
       "      <th>Exp No.</th>\n",
       "      <th>Ap (mm)</th>\n",
       "      <th>Vc (tr/min)</th>\n",
       "      <th>f (mm/tr)</th>\n",
       "      <th>Ra (µm)</th>\n",
       "    </tr>\n",
       "  </thead>\n",
       "  <tbody>\n",
       "    <tr>\n",
       "      <th>0</th>\n",
       "      <td>1</td>\n",
       "      <td>0.2</td>\n",
       "      <td>10000</td>\n",
       "      <td>1500</td>\n",
       "      <td>1.054</td>\n",
       "    </tr>\n",
       "    <tr>\n",
       "      <th>1</th>\n",
       "      <td>2</td>\n",
       "      <td>0.2</td>\n",
       "      <td>10000</td>\n",
       "      <td>2000</td>\n",
       "      <td>0.760</td>\n",
       "    </tr>\n",
       "    <tr>\n",
       "      <th>2</th>\n",
       "      <td>3</td>\n",
       "      <td>0.2</td>\n",
       "      <td>10000</td>\n",
       "      <td>2500</td>\n",
       "      <td>0.740</td>\n",
       "    </tr>\n",
       "    <tr>\n",
       "      <th>3</th>\n",
       "      <td>4</td>\n",
       "      <td>0.2</td>\n",
       "      <td>15000</td>\n",
       "      <td>1500</td>\n",
       "      <td>0.720</td>\n",
       "    </tr>\n",
       "    <tr>\n",
       "      <th>4</th>\n",
       "      <td>5</td>\n",
       "      <td>0.2</td>\n",
       "      <td>15000</td>\n",
       "      <td>2000</td>\n",
       "      <td>0.560</td>\n",
       "    </tr>\n",
       "  </tbody>\n",
       "</table>\n",
       "</div>"
      ],
      "text/plain": [
       "   Exp No.  Ap (mm)  Vc (tr/min)  f (mm/tr)  Ra (µm)\n",
       "0        1      0.2        10000       1500    1.054\n",
       "1        2      0.2        10000       2000    0.760\n",
       "2        3      0.2        10000       2500    0.740\n",
       "3        4      0.2        15000       1500    0.720\n",
       "4        5      0.2        15000       2000    0.560"
      ]
     },
     "execution_count": 28,
     "metadata": {},
     "output_type": "execute_result"
    },
    {
     "ename": "",
     "evalue": "",
     "output_type": "error",
     "traceback": [
      "\u001b[1;31mThe Kernel crashed while executing code in the current cell or a previous cell. \n",
      "\u001b[1;31mPlease review the code in the cell(s) to identify a possible cause of the failure. \n",
      "\u001b[1;31mClick <a href='https://aka.ms/vscodeJupyterKernelCrash'>here</a> for more info. \n",
      "\u001b[1;31mView Jupyter <a href='command:jupyter.viewOutput'>log</a> for further details."
     ]
    }
   ],
   "source": [
    "data.head()"
   ]
  }
 ],
 "metadata": {
  "kernelspec": {
   "display_name": "work",
   "language": "python",
   "name": "python3"
  },
  "language_info": {
   "codemirror_mode": {
    "name": "ipython",
    "version": 3
   },
   "file_extension": ".py",
   "mimetype": "text/x-python",
   "name": "python",
   "nbconvert_exporter": "python",
   "pygments_lexer": "ipython3",
   "version": "3.13.2"
  }
 },
 "nbformat": 4,
 "nbformat_minor": 2
}
